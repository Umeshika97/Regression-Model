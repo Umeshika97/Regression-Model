{
  "nbformat": 4,
  "nbformat_minor": 0,
  "metadata": {
    "colab": {
      "provenance": [],
      "include_colab_link": true
    },
    "kernelspec": {
      "name": "python3",
      "display_name": "Python 3"
    },
    "language_info": {
      "name": "python"
    }
  },
  "cells": [
    {
      "cell_type": "markdown",
      "metadata": {
        "id": "view-in-github",
        "colab_type": "text"
      },
      "source": [
        "<a href=\"https://colab.research.google.com/github/Umeshika97/Regression-Model/blob/main/s14320_Assignment01.ipynb\" target=\"_parent\"><img src=\"https://colab.research.google.com/assets/colab-badge.svg\" alt=\"Open In Colab\"/></a>"
      ]
    },
    {
      "cell_type": "markdown",
      "metadata": {
        "id": "4LuhXKJANgAV"
      },
      "source": [
        "index No:- s14320\n",
        "\n",
        "D.M.U.S.DISSANAYAKA\n",
        "\n",
        "2018S16820"
      ]
    },
    {
      "cell_type": "markdown",
      "metadata": {
        "id": "cyRdXl016XXI"
      },
      "source": [
        "# **Import Libraries**"
      ]
    },
    {
      "cell_type": "code",
      "metadata": {
        "id": "NlgvHDpr83K_"
      },
      "source": [
        "#from LinearRegressionModel import linear_regression_model\n",
        "import pandas as pd\n",
        "import numpy as np\n",
        "import matplotlib.pyplot as plt\n",
        "from sklearn import linear_model\n",
        "from sklearn.linear_model import LinearRegression\n"
      ],
      "execution_count": null,
      "outputs": []
    },
    {
      "cell_type": "markdown",
      "metadata": {
        "id": "gzlniOCV6nzj"
      },
      "source": [
        "# **About Dataset**"
      ]
    },
    {
      "cell_type": "markdown",
      "metadata": {
        "id": "PNK4uXUYdMSI"
      },
      "source": [
        "**This study looked into assessing the heating load (Y1) and cooling load (Y2)requirements of buildings (that is, energy efficiency) as a function of building parameters**"
      ]
    },
    {
      "cell_type": "markdown",
      "metadata": {
        "id": "uiTB2TQ6dhnO"
      },
      "source": [
        "The dataset contains eight attributes (or features, denoted by X1...X8) and two responses (or outcomes, denoted by y1 and y2). The aim is to use the eight features to predict each of the two responses.\n",
        "\n",
        " **[But in this assignment, data set was only analized  into assessing the heating load (Y1) requirements of buildings (that is, energy efficiency) as a function of building parameters.]**\n",
        "\n",
        "**Specifically:**\n",
        "\n",
        "1.X1 Relative Compactness\n",
        "\n",
        "2.X2 Surface Area\n",
        "\n",
        "3.X3 Wall Area\n",
        "\n",
        "4.X4 Roof Area\n",
        "\n",
        "5.X5 Overall Height\n",
        "\n",
        "6.X6 Orientation\n",
        "\n",
        "7.X7 Glazing Area\n",
        "\n",
        "8.X8 Glazing Area Distribution\n",
        "\n",
        "9.y1 Heating Load\n",
        "\n",
        "10.y2 Cooling Load"
      ]
    },
    {
      "cell_type": "markdown",
      "metadata": {
        "id": "qrl5wVvpigCR"
      },
      "source": [
        "# **Import Dataset**"
      ]
    },
    {
      "cell_type": "code",
      "metadata": {
        "colab": {
          "base_uri": "https://localhost:8080/",
          "height": 204
        },
        "id": "1pPv6Ioa82ln",
        "outputId": "852dc15f-2e4e-4dc3-dc24-ca7f7f5383de"
      },
      "source": [
        "import pandas as pd\n",
        "df = pd.read_excel('https://archive.ics.uci.edu/ml/machine-learning-databases/00242/ENB2012_data.xlsx')\n",
        "df.head()"
      ],
      "execution_count": null,
      "outputs": [
        {
          "output_type": "execute_result",
          "data": {
            "text/html": [
              "<div>\n",
              "<style scoped>\n",
              "    .dataframe tbody tr th:only-of-type {\n",
              "        vertical-align: middle;\n",
              "    }\n",
              "\n",
              "    .dataframe tbody tr th {\n",
              "        vertical-align: top;\n",
              "    }\n",
              "\n",
              "    .dataframe thead th {\n",
              "        text-align: right;\n",
              "    }\n",
              "</style>\n",
              "<table border=\"1\" class=\"dataframe\">\n",
              "  <thead>\n",
              "    <tr style=\"text-align: right;\">\n",
              "      <th></th>\n",
              "      <th>X1</th>\n",
              "      <th>X2</th>\n",
              "      <th>X3</th>\n",
              "      <th>X4</th>\n",
              "      <th>X5</th>\n",
              "      <th>X6</th>\n",
              "      <th>X7</th>\n",
              "      <th>X8</th>\n",
              "      <th>Y1</th>\n",
              "      <th>Y2</th>\n",
              "    </tr>\n",
              "  </thead>\n",
              "  <tbody>\n",
              "    <tr>\n",
              "      <th>0</th>\n",
              "      <td>0.98</td>\n",
              "      <td>514.5</td>\n",
              "      <td>294.0</td>\n",
              "      <td>110.25</td>\n",
              "      <td>7.0</td>\n",
              "      <td>2</td>\n",
              "      <td>0.0</td>\n",
              "      <td>0</td>\n",
              "      <td>15.55</td>\n",
              "      <td>21.33</td>\n",
              "    </tr>\n",
              "    <tr>\n",
              "      <th>1</th>\n",
              "      <td>0.98</td>\n",
              "      <td>514.5</td>\n",
              "      <td>294.0</td>\n",
              "      <td>110.25</td>\n",
              "      <td>7.0</td>\n",
              "      <td>3</td>\n",
              "      <td>0.0</td>\n",
              "      <td>0</td>\n",
              "      <td>15.55</td>\n",
              "      <td>21.33</td>\n",
              "    </tr>\n",
              "    <tr>\n",
              "      <th>2</th>\n",
              "      <td>0.98</td>\n",
              "      <td>514.5</td>\n",
              "      <td>294.0</td>\n",
              "      <td>110.25</td>\n",
              "      <td>7.0</td>\n",
              "      <td>4</td>\n",
              "      <td>0.0</td>\n",
              "      <td>0</td>\n",
              "      <td>15.55</td>\n",
              "      <td>21.33</td>\n",
              "    </tr>\n",
              "    <tr>\n",
              "      <th>3</th>\n",
              "      <td>0.98</td>\n",
              "      <td>514.5</td>\n",
              "      <td>294.0</td>\n",
              "      <td>110.25</td>\n",
              "      <td>7.0</td>\n",
              "      <td>5</td>\n",
              "      <td>0.0</td>\n",
              "      <td>0</td>\n",
              "      <td>15.55</td>\n",
              "      <td>21.33</td>\n",
              "    </tr>\n",
              "    <tr>\n",
              "      <th>4</th>\n",
              "      <td>0.90</td>\n",
              "      <td>563.5</td>\n",
              "      <td>318.5</td>\n",
              "      <td>122.50</td>\n",
              "      <td>7.0</td>\n",
              "      <td>2</td>\n",
              "      <td>0.0</td>\n",
              "      <td>0</td>\n",
              "      <td>20.84</td>\n",
              "      <td>28.28</td>\n",
              "    </tr>\n",
              "  </tbody>\n",
              "</table>\n",
              "</div>"
            ],
            "text/plain": [
              "     X1     X2     X3      X4   X5  X6   X7  X8     Y1     Y2\n",
              "0  0.98  514.5  294.0  110.25  7.0   2  0.0   0  15.55  21.33\n",
              "1  0.98  514.5  294.0  110.25  7.0   3  0.0   0  15.55  21.33\n",
              "2  0.98  514.5  294.0  110.25  7.0   4  0.0   0  15.55  21.33\n",
              "3  0.98  514.5  294.0  110.25  7.0   5  0.0   0  15.55  21.33\n",
              "4  0.90  563.5  318.5  122.50  7.0   2  0.0   0  20.84  28.28"
            ]
          },
          "metadata": {
            "tags": []
          },
          "execution_count": 50
        }
      ]
    },
    {
      "cell_type": "markdown",
      "metadata": {
        "id": "RM-9NF2DuCs0"
      },
      "source": [
        "# **The missing value was dropped**"
      ]
    },
    {
      "cell_type": "code",
      "metadata": {
        "colab": {
          "base_uri": "https://localhost:8080/"
        },
        "id": "4tKNHpaSuMDP",
        "outputId": "9f5cbc1c-f3a7-453d-f36e-b5434e528d7f"
      },
      "source": [
        "df = df.dropna()\n",
        "df.isnull().sum()"
      ],
      "execution_count": null,
      "outputs": [
        {
          "output_type": "execute_result",
          "data": {
            "text/plain": [
              "X1    0\n",
              "X2    0\n",
              "X3    0\n",
              "X4    0\n",
              "X5    0\n",
              "X6    0\n",
              "X7    0\n",
              "X8    0\n",
              "Y1    0\n",
              "Y2    0\n",
              "dtype: int64"
            ]
          },
          "metadata": {
            "tags": []
          },
          "execution_count": 51
        }
      ]
    },
    {
      "cell_type": "markdown",
      "metadata": {
        "id": "BCyc4jqDuPpG"
      },
      "source": [
        "# **The data types were checked**"
      ]
    },
    {
      "cell_type": "code",
      "metadata": {
        "colab": {
          "base_uri": "https://localhost:8080/"
        },
        "id": "RcvSDgNJuX9M",
        "outputId": "c7b75f64-34e5-483f-aa8d-851dc68283b6"
      },
      "source": [
        "df.dtypes"
      ],
      "execution_count": null,
      "outputs": [
        {
          "output_type": "execute_result",
          "data": {
            "text/plain": [
              "X1    float64\n",
              "X2    float64\n",
              "X3    float64\n",
              "X4    float64\n",
              "X5    float64\n",
              "X6      int64\n",
              "X7    float64\n",
              "X8      int64\n",
              "Y1    float64\n",
              "Y2    float64\n",
              "dtype: object"
            ]
          },
          "metadata": {
            "tags": []
          },
          "execution_count": 52
        }
      ]
    },
    {
      "cell_type": "markdown",
      "metadata": {
        "id": "Co0CJJFY6vam"
      },
      "source": [
        "# **Define X and Y**"
      ]
    },
    {
      "cell_type": "code",
      "metadata": {
        "id": "7cb6DssM82F4"
      },
      "source": [
        "x = df.drop(['Y1','Y2'],axis=1).values\n",
        "y = df['Y1'].values"
      ],
      "execution_count": null,
      "outputs": []
    },
    {
      "cell_type": "code",
      "metadata": {
        "colab": {
          "base_uri": "https://localhost:8080/"
        },
        "id": "cKnaZLzRCWcU",
        "outputId": "6d20b74f-f5c0-4a9a-ef37-7cc69f2cb079"
      },
      "source": [
        "print(x)"
      ],
      "execution_count": null,
      "outputs": [
        {
          "output_type": "stream",
          "text": [
            "[[9.800e-01 5.145e+02 2.940e+02 ... 2.000e+00 0.000e+00 0.000e+00]\n",
            " [9.800e-01 5.145e+02 2.940e+02 ... 3.000e+00 0.000e+00 0.000e+00]\n",
            " [9.800e-01 5.145e+02 2.940e+02 ... 4.000e+00 0.000e+00 0.000e+00]\n",
            " ...\n",
            " [6.200e-01 8.085e+02 3.675e+02 ... 3.000e+00 4.000e-01 5.000e+00]\n",
            " [6.200e-01 8.085e+02 3.675e+02 ... 4.000e+00 4.000e-01 5.000e+00]\n",
            " [6.200e-01 8.085e+02 3.675e+02 ... 5.000e+00 4.000e-01 5.000e+00]]\n"
          ],
          "name": "stdout"
        }
      ]
    },
    {
      "cell_type": "code",
      "metadata": {
        "colab": {
          "base_uri": "https://localhost:8080/"
        },
        "id": "arhU0bXGDtm1",
        "outputId": "ec9812d5-6e31-46ed-b14c-0cc4d73355ae"
      },
      "source": [
        "print(y)"
      ],
      "execution_count": null,
      "outputs": [
        {
          "output_type": "stream",
          "text": [
            "[15.55  15.55  15.55  15.55  20.84  21.46  20.71  19.68  19.5   19.95\n",
            " 19.34  18.31  17.05  17.41  16.95  15.98  28.52  29.9   29.63  28.75\n",
            " 24.77  23.93  24.77  23.93   6.07   6.05   6.01   6.04   6.37   6.4\n",
            "  6.366  6.4    6.85   6.79   6.77   6.81   7.18   7.1    7.1    7.1\n",
            " 10.85  10.54  10.77  10.56   8.6    8.49   8.45   8.5   24.58  24.63\n",
            " 24.63  24.59  29.03  29.87  29.14  28.09  26.28  26.91  26.37  25.27\n",
            " 23.53  24.03  23.54  22.58  35.56  37.12  36.9   35.94  32.96  32.12\n",
            " 32.94  32.21  10.36  10.43  10.36  10.39  10.71  10.8   10.7   10.75\n",
            " 11.11  11.13  11.09  11.16  11.68  11.69  11.7   11.69  15.41  15.2\n",
            " 15.42  15.21  12.96  12.97  12.93  13.02  24.29  24.31  24.13  24.25\n",
            " 28.88  29.68  28.83  27.9   26.48  27.02  26.33  25.36  23.75  24.23\n",
            " 23.67  22.79  35.65  37.26  36.97  36.03  33.16  32.4   33.12  32.41\n",
            " 10.42  10.46  10.32  10.45  10.64  10.72  10.55  10.68  11.45  11.46\n",
            " 11.32  11.49  11.45  11.42  11.33  11.43  15.41  15.18  15.34  15.19\n",
            " 12.88  13.    12.97  13.04  24.28  24.4   24.11  24.35  28.07  29.01\n",
            " 29.62  29.05  25.41  26.47  26.89  26.46  22.93  23.84  24.17  23.87\n",
            " 35.78  35.48  36.97  36.7   32.52  33.28  32.33  33.24  10.39  10.34\n",
            " 10.35  10.38  10.77  10.68  10.68  10.7   11.22  11.16  11.1   11.14\n",
            " 11.59  11.6   11.53  11.61  15.16  15.36  15.12  15.36  12.68  12.63\n",
            " 12.71  12.73  24.38  24.23  24.04  24.32  29.06  28.05  28.86  29.79\n",
            " 26.44  25.37  26.33  27.03  23.8   22.8   23.59  24.24  36.86  35.89\n",
            " 35.45  37.1   33.08  32.38  33.09  32.31  10.08  10.15  10.07  10.14\n",
            " 10.66  10.68  10.53  10.72  11.18  11.22  11.07  11.2   11.44  11.42\n",
            " 11.33  11.43  15.4   15.19  15.32  15.16  12.85  13.04  13.    13.\n",
            " 24.35  24.33  24.03  24.26  29.83  29.08  28.03  29.02  27.03  26.45\n",
            " 25.36  26.45  24.37  23.89  22.89  23.86  37.03  36.71  36.77  35.48\n",
            " 32.31  33.21  32.46  33.27  10.47  10.37  10.34  10.39  10.78  10.7\n",
            " 10.67  13.69  11.21  11.14  11.11  11.16  11.38  11.34  11.22  11.34\n",
            " 15.16  15.37  15.12  15.36  12.59  12.74  12.8   12.62  28.15  28.15\n",
            " 28.37  28.41  32.68  33.48  32.84  32.    29.54  30.05  29.6   28.66\n",
            " 26.84  27.27  26.97  26.19  38.67  40.03  39.86  39.04  36.96  36.13\n",
            " 36.91  36.43  12.43  12.5   12.41  12.45  12.57  12.65  12.57  12.63\n",
            " 12.78  12.93  12.73  12.72  13.17  13.18  13.17  13.18  17.5   17.35\n",
            " 17.52  17.37  15.09  15.12  15.08  15.16  28.67  28.57  28.18  28.6\n",
            " 32.46  33.27  32.33  31.66  29.34  29.87  29.27  28.4   25.74  25.98\n",
            " 25.38  24.94  38.57  40.19  39.97  38.98  36.95  36.28  36.86  36.45\n",
            " 12.35  12.45  12.16  12.3   12.33  12.29  12.2   12.49  12.85  12.87\n",
            " 12.73  12.95  13.05  12.93  12.77  13.    17.14  16.84  17.02  17.11\n",
            " 14.34  14.66  14.6   14.6   28.67  28.56  28.17  28.63  31.63  32.4\n",
            " 32.68  32.29  28.4   29.4   29.43  29.07  24.7   25.48  25.37  25.17\n",
            " 39.04  38.35  39.81  39.83  35.99  36.59  35.64  36.52  11.8   12.03\n",
            " 11.98  11.69  12.41  12.28  12.1   12.19  12.34  12.46  12.31  12.12\n",
            " 12.97  13.01  12.74  12.84  16.83  16.93  16.66  16.86  13.91  14.34\n",
            " 13.95  13.99  28.7   28.55  28.15  28.62  32.67  31.69  32.07  33.28\n",
            " 29.47  28.42  29.08  29.88  25.66  24.96  25.43  26.    40.    38.84\n",
            " 38.33  40.12  36.95  36.45  36.81  36.26  12.32  12.3   12.18  12.43\n",
            " 12.36  12.49  12.17  12.28  12.91  12.95  12.67  12.86  12.95  13.\n",
            " 12.86  12.92  16.99  16.69  16.56  16.62  14.33  14.61  14.61  14.65\n",
            " 28.69  28.58  28.15  28.61  33.13  32.31  31.53  32.46  29.71  29.09\n",
            " 28.31  29.39  25.7   25.17  24.6   25.49  39.89  39.83  39.01  38.65\n",
            " 35.69  36.64  36.06  36.7   12.12  11.67  11.64  12.02  12.27  12.19\n",
            " 12.25  12.27  12.47  12.12  12.18  12.47  12.93  12.82  12.78  13.02\n",
            " 16.73  16.86  16.76  16.92  13.68  13.99  14.16  13.86  32.26  32.26\n",
            " 32.49  32.53  36.47  37.24  36.66  35.96  31.89  32.39  32.09  31.29\n",
            " 29.22  29.91  29.53  28.65  41.4   42.62  42.5   41.67  40.78  39.97\n",
            " 40.71  40.43  14.52  14.61  14.5   14.55  14.51  14.6   14.5   14.58\n",
            " 14.51  14.7   14.42  14.42  15.23  15.23  15.23  15.23  19.52  19.36\n",
            " 19.48  19.42  15.09  17.17  17.14  17.14  32.82  32.71  32.24  32.72\n",
            " 35.84  36.57  36.06  35.69  32.48  32.74  32.13  31.64  28.95  29.49\n",
            " 28.64  28.01  41.64  43.1   42.74  41.92  40.78  40.15  40.57  40.42\n",
            " 14.54  14.45  14.18  14.5   14.7   14.66  14.4   14.71  14.75  14.71\n",
            " 14.33  14.62  15.34  15.29  15.09  15.3   19.2   18.88  18.9   19.12\n",
            " 16.76  17.23  17.26  17.15  32.82  32.69  32.23  32.75  34.24  34.95\n",
            " 35.05  34.29  31.28  32.12  32.05  31.84  28.67  29.67  29.47  28.91\n",
            " 41.26  41.3   42.49  42.08  39.32  39.84  38.89  39.68  13.97  14.22\n",
            " 14.1   13.78  14.07  14.03  13.94  13.86  14.32  14.56  14.33  14.08\n",
            " 15.16  15.18  14.72  14.9   18.48  18.71  18.48  18.46  16.47  16.35\n",
            " 16.55  16.74  32.85  32.67  32.21  32.74  36.45  35.73  35.4   36.57\n",
            " 32.38  31.66  32.15  32.75  28.93  28.05  28.64  29.52  42.77  41.73\n",
            " 41.32  42.96  40.68  40.4   40.6   40.11  14.37  14.48  14.32  14.44\n",
            " 14.6   14.7   14.47  14.66  14.54  14.62  14.53  14.71  15.34  15.29\n",
            " 15.09  15.3   19.06  19.13  19.    18.84  16.44  16.9   16.94  16.77\n",
            " 32.84  32.72  32.21  32.73  35.67  35.01  34.72  35.24  32.31  31.81\n",
            " 31.12  32.06  30.    29.5   29.06  29.92  42.11  41.96  41.09  40.79\n",
            " 38.82  39.72  39.31  39.86  14.41  14.19  14.17  14.39  12.43  12.63\n",
            " 12.76  12.42  14.12  14.28  14.37  14.21  14.96  14.92  14.92  15.16\n",
            " 17.69  18.19  18.16  17.88  16.54  16.44  16.48  16.64 ]\n"
          ],
          "name": "stdout"
        }
      ]
    },
    {
      "cell_type": "markdown",
      "metadata": {
        "id": "cwo32zStvReq"
      },
      "source": [
        "# **The graphs were plot for  (y1) Heating Load vs each x values**\n",
        "(Relative Compactness,Surface Area, Wall Area, Roof Area,Overall Height,Orientation,Glazing Area,Glazing Area Distribution)"
      ]
    },
    {
      "cell_type": "code",
      "metadata": {
        "colab": {
          "base_uri": "https://localhost:8080/",
          "height": 1000
        },
        "id": "NHJ1J-Iovkqp",
        "outputId": "0593bc67-b65f-49f5-9d2f-c0a9b164d878"
      },
      "source": [
        "plt.figure(figsize=(6,4))\n",
        "plt.scatter(df['X1'],df['Y1'])\n",
        "plt.xlabel(' Relative Compactness')\n",
        "plt.ylabel('Heating Load')\n",
        "plt.title('The graph of Heating Load vs Relative Compactness')\n",
        "\n",
        "plt.figure(figsize=(6,4))\n",
        "plt.scatter(df['X2'],df['Y1'])\n",
        "plt.xlabel(' Surface Area')\n",
        "plt.ylabel('Heating Load')\n",
        "plt.title('The graph of Heating Load vs Surface Area')\n",
        "\n",
        "plt.figure(figsize=(6,4))\n",
        "plt.scatter(df['X3'],df['Y1'])\n",
        "plt.xlabel('Wall Area')\n",
        "plt.ylabel('Heating Load')\n",
        "plt.title('The graph of Heating Load vs Wall Area')\n",
        "\n",
        "plt.figure(figsize=(6,4))\n",
        "plt.scatter(df['X4'],df['Y1'])\n",
        "plt.xlabel('Roof Area')\n",
        "plt.ylabel('Heating Load')\n",
        "plt.title('The graph of Heating Load vs Roof Area ')\n",
        "\n",
        "plt.figure(figsize=(6,4))\n",
        "plt.scatter(df['X5'],df['Y1'])\n",
        "plt.xlabel('Overall Height')\n",
        "plt.ylabel('Heating Load')\n",
        "plt.title('The graph of Heating Load vs Overall Height')\n",
        "\n",
        "plt.figure(figsize=(6,4))\n",
        "plt.scatter(df['X6'],df['Y1'])\n",
        "plt.xlabel('Orientation')\n",
        "plt.ylabel('Heating Load')\n",
        "plt.title('The graph of Heating Load vs Orientation')\n",
        "\n",
        "plt.figure(figsize=(6,4))\n",
        "plt.scatter(df['X7'],df['Y1'])\n",
        "plt.xlabel('Glazing Area')\n",
        "plt.ylabel('Heating Load')\n",
        "plt.title('The graph of Heating Load vs Glazing Area')\n",
        "\n",
        "plt.figure(figsize=(6,4))\n",
        "plt.scatter(df['X8'],df['Y1'])\n",
        "plt.xlabel('Glazing Area Distribution')\n",
        "plt.ylabel('Heating Load')\n",
        "plt.title('The graph of Heating Load vs Glazing Area Distribution')\n"
      ],
      "execution_count": null,
      "outputs": [
        {
          "output_type": "execute_result",
          "data": {
            "text/plain": [
              "Text(0.5, 1.0, 'The graph of Heating Load vs Glazing Area Distribution')"
            ]
          },
          "metadata": {
            "tags": []
          },
          "execution_count": 61
        },
        {
          "output_type": "display_data",
          "data": {
            "image/png": "[encoded data removed]",
            "text/plain": [
              "<Figure size 432x288 with 1 Axes>"
            ]
          },
          "metadata": {
            "tags": [],
            "needs_background": "light"
          }
        },
        {
          "output_type": "display_data",
          "data": {
            "image/png": "[encoded data removed]",
            "text/plain": [
              "<Figure size 432x288 with 1 Axes>"
            ]
          },
          "metadata": {
            "tags": [],
            "needs_background": "light"
          }
        },
        {
          "output_type": "display_data",
          "data": {
            "image/png": "[encoded data removed]",
            "text/plain": [
              "<Figure size 432x288 with 1 Axes>"
            ]
          },
          "metadata": {
            "tags": [],
            "needs_background": "light"
          }
        },
        {
          "output_type": "display_data",
          "data": {
            "image/png": "[encoded data removed]",
            "text/plain": [
              "<Figure size 432x288 with 1 Axes>"
            ]
          },
          "metadata": {
            "tags": [],
            "needs_background": "light"
          }
        },
        {
          "output_type": "display_data",
          "data": {
            "image/png": "[encoded data removed]",
            "text/plain": [
              "<Figure size 432x288 with 1 Axes>"
            ]
          },
          "metadata": {
            "tags": [],
            "needs_background": "light"
          }
        },
        {
          "output_type": "display_data",
          "data": {
            "image/png": "[encoded data removed]",
            "text/plain": [
              "<Figure size 432x288 with 1 Axes>"
            ]
          },
          "metadata": {
            "tags": [],
            "needs_background": "light"
          }
        },
        {
          "output_type": "display_data",
          "data": {
            "image/png": "[encoded data removed]",
            "text/plain": [
              "<Figure size 432x288 with 1 Axes>"
            ]
          },
          "metadata": {
            "tags": [],
            "needs_background": "light"
          }
        },
        {
          "output_type": "display_data",
          "data": {
            "image/png": "[encoded data removed]",
            "text/plain": [
              "<Figure size 432x288 with 1 Axes>"
            ]
          },
          "metadata": {
            "tags": [],
            "needs_background": "light"
          }
        }
      ]
    },
    {
      "cell_type": "markdown",
      "metadata": {
        "id": "i92UXumDsD29"
      },
      "source": [
        "# **The regression result was taken by using the stat model function**"
      ]
    },
    {
      "cell_type": "code",
      "metadata": {
        "colab": {
          "base_uri": "https://localhost:8080/",
          "height": 679
        },
        "id": "0Qq8D5NGsUQ7",
        "outputId": "77fe8fe3-ac95-4d11-8e52-19ead7083237"
      },
      "source": [
        "import statsmodels.formula.api as smf\n",
        "model = smf.ols(formula=\"Y1  ~ X1+ X2 + X3 + X4 + X5 + X6 + X7 + X8 \", data = df).fit()\n",
        "model.summary()"
      ],
      "execution_count": null,
      "outputs": [
        {
          "output_type": "stream",
          "text": [
            "/usr/local/lib/python3.7/dist-packages/statsmodels/tools/_testing.py:19: FutureWarning: pandas.util.testing is deprecated. Use the functions in the public API at pandas.testing instead.\n",
            "  import pandas.util.testing as tm\n"
          ],
          "name": "stderr"
        },
        {
          "output_type": "execute_result",
          "data": {
            "text/html": [
              "<table class=\"simpletable\">\n",
              "<caption>OLS Regression Results</caption>\n",
              "<tr>\n",
              "  <th>Dep. Variable:</th>           <td>Y1</td>        <th>  R-squared:         </th> <td>   0.916</td>\n",
              "</tr>\n",
              "<tr>\n",
              "  <th>Model:</th>                   <td>OLS</td>       <th>  Adj. R-squared:    </th> <td>   0.915</td>\n",
              "</tr>\n",
              "<tr>\n",
              "  <th>Method:</th>             <td>Least Squares</td>  <th>  F-statistic:       </th> <td>   1187.</td>\n",
              "</tr>\n",
              "<tr>\n",
              "  <th>Date:</th>             <td>Sun, 20 Jun 2021</td> <th>  Prob (F-statistic):</th>  <td>  0.00</td> \n",
              "</tr>\n",
              "<tr>\n",
              "  <th>Time:</th>                 <td>05:42:06</td>     <th>  Log-Likelihood:    </th> <td> -137.17</td>\n",
              "</tr>\n",
              "<tr>\n",
              "  <th>No. Observations:</th>      <td>   768</td>      <th>  AIC:               </th> <td>   290.3</td>\n",
              "</tr>\n",
              "<tr>\n",
              "  <th>Df Residuals:</th>          <td>   760</td>      <th>  BIC:               </th> <td>   327.5</td>\n",
              "</tr>\n",
              "<tr>\n",
              "  <th>Df Model:</th>              <td>     7</td>      <th>                     </th>     <td> </td>   \n",
              "</tr>\n",
              "<tr>\n",
              "  <th>Covariance Type:</th>      <td>nonrobust</td>    <th>                     </th>     <td> </td>   \n",
              "</tr>\n",
              "</table>\n",
              "<table class=\"simpletable\">\n",
              "<tr>\n",
              "      <td></td>         <th>coef</th>     <th>std err</th>      <th>t</th>      <th>P>|t|</th>  <th>[0.025</th>    <th>0.975]</th>  \n",
              "</tr>\n",
              "<tr>\n",
              "  <th>Intercept</th> <td>-3.758e-16</td> <td>    0.010</td> <td>-3.58e-14</td> <td> 1.000</td> <td>   -0.021</td> <td>    0.021</td>\n",
              "</tr>\n",
              "<tr>\n",
              "  <th>X1</th>        <td>   -0.6790</td> <td>    0.108</td> <td>   -6.295</td> <td> 0.000</td> <td>   -0.891</td> <td>   -0.467</td>\n",
              "</tr>\n",
              "<tr>\n",
              "  <th>X2</th>        <td>   -0.3736</td> <td>    0.080</td> <td>   -4.696</td> <td> 0.000</td> <td>   -0.530</td> <td>   -0.217</td>\n",
              "</tr>\n",
              "<tr>\n",
              "  <th>X3</th>        <td>    0.0705</td> <td>    0.021</td> <td>    3.373</td> <td> 0.001</td> <td>    0.029</td> <td>    0.112</td>\n",
              "</tr>\n",
              "<tr>\n",
              "  <th>X4</th>        <td>   -0.3984</td> <td>    0.072</td> <td>   -5.571</td> <td> 0.000</td> <td>   -0.539</td> <td>   -0.258</td>\n",
              "</tr>\n",
              "<tr>\n",
              "  <th>X5</th>        <td>    0.7237</td> <td>    0.059</td> <td>   12.338</td> <td> 0.000</td> <td>    0.609</td> <td>    0.839</td>\n",
              "</tr>\n",
              "<tr>\n",
              "  <th>X6</th>        <td>   -0.0026</td> <td>    0.011</td> <td>   -0.246</td> <td> 0.805</td> <td>   -0.023</td> <td>    0.018</td>\n",
              "</tr>\n",
              "<tr>\n",
              "  <th>X7</th>        <td>    0.2632</td> <td>    0.011</td> <td>   24.488</td> <td> 0.000</td> <td>    0.242</td> <td>    0.284</td>\n",
              "</tr>\n",
              "<tr>\n",
              "  <th>X8</th>        <td>    0.0313</td> <td>    0.011</td> <td>    2.915</td> <td> 0.004</td> <td>    0.010</td> <td>    0.052</td>\n",
              "</tr>\n",
              "</table>\n",
              "<table class=\"simpletable\">\n",
              "<tr>\n",
              "  <th>Omnibus:</th>       <td>18.647</td> <th>  Durbin-Watson:     </th> <td>   0.654</td>\n",
              "</tr>\n",
              "<tr>\n",
              "  <th>Prob(Omnibus):</th> <td> 0.000</td> <th>  Jarque-Bera (JB):  </th> <td>  37.707</td>\n",
              "</tr>\n",
              "<tr>\n",
              "  <th>Skew:</th>          <td> 0.044</td> <th>  Prob(JB):          </th> <td>6.49e-09</td>\n",
              "</tr>\n",
              "<tr>\n",
              "  <th>Kurtosis:</th>      <td> 4.082</td> <th>  Cond. No.          </th> <td>3.36e+15</td>\n",
              "</tr>\n",
              "</table><br/><br/>Warnings:<br/>[1] Standard Errors assume that the covariance matrix of the errors is correctly specified.<br/>[2] The smallest eigenvalue is 2.52e-28. This might indicate that there are<br/>strong multicollinearity problems or that the design matrix is singular."
            ],
            "text/plain": [
              "<class 'statsmodels.iolib.summary.Summary'>\n",
              "\"\"\"\n",
              "                            OLS Regression Results                            \n",
              "==============================================================================\n",
              "Dep. Variable:                     Y1   R-squared:                       0.916\n",
              "Model:                            OLS   Adj. R-squared:                  0.915\n",
              "Method:                 Least Squares   F-statistic:                     1187.\n",
              "Date:                Sun, 20 Jun 2021   Prob (F-statistic):               0.00\n",
              "Time:                        05:42:06   Log-Likelihood:                -137.17\n",
              "No. Observations:                 768   AIC:                             290.3\n",
              "Df Residuals:                     760   BIC:                             327.5\n",
              "Df Model:                           7                                         \n",
              "Covariance Type:            nonrobust                                         \n",
              "==============================================================================\n",
              "                 coef    std err          t      P>|t|      [0.025      0.975]\n",
              "------------------------------------------------------------------------------\n",
              "Intercept  -3.758e-16      0.010  -3.58e-14      1.000      -0.021       0.021\n",
              "X1            -0.6790      0.108     -6.295      0.000      -0.891      -0.467\n",
              "X2            -0.3736      0.080     -4.696      0.000      -0.530      -0.217\n",
              "X3             0.0705      0.021      3.373      0.001       0.029       0.112\n",
              "X4            -0.3984      0.072     -5.571      0.000      -0.539      -0.258\n",
              "X5             0.7237      0.059     12.338      0.000       0.609       0.839\n",
              "X6            -0.0026      0.011     -0.246      0.805      -0.023       0.018\n",
              "X7             0.2632      0.011     24.488      0.000       0.242       0.284\n",
              "X8             0.0313      0.011      2.915      0.004       0.010       0.052\n",
              "==============================================================================\n",
              "Omnibus:                       18.647   Durbin-Watson:                   0.654\n",
              "Prob(Omnibus):                  0.000   Jarque-Bera (JB):               37.707\n",
              "Skew:                           0.044   Prob(JB):                     6.49e-09\n",
              "Kurtosis:                       4.082   Cond. No.                     3.36e+15\n",
              "==============================================================================\n",
              "\n",
              "Warnings:\n",
              "[1] Standard Errors assume that the covariance matrix of the errors is correctly specified.\n",
              "[2] The smallest eigenvalue is 2.52e-28. This might indicate that there are\n",
              "strong multicollinearity problems or that the design matrix is singular.\n",
              "\"\"\""
            ]
          },
          "metadata": {
            "tags": []
          },
          "execution_count": 46
        }
      ]
    },
    {
      "cell_type": "markdown",
      "metadata": {
        "id": "MInTaCvShSoX"
      },
      "source": [
        "# **Regression Coeffitions**"
      ]
    },
    {
      "cell_type": "code",
      "metadata": {
        "colab": {
          "base_uri": "https://localhost:8080/"
        },
        "id": "OO3e_zVvvJxB",
        "outputId": "c8ba5193-24d1-417e-8476-a5bd1a95b02e"
      },
      "source": [
        "reg= linear_model.LinearRegression()\n",
        "reg.fit(df[['X1','X2','X3',\t'X4'\t,'X5',\t'X6'\t,'X7',\t'X8']], df.Y1)"
      ],
      "execution_count": null,
      "outputs": [
        {
          "output_type": "execute_result",
          "data": {
            "text/plain": [
              "LinearRegression(copy_X=True, fit_intercept=True, n_jobs=None, normalize=False)"
            ]
          },
          "metadata": {
            "tags": []
          },
          "execution_count": 8
        }
      ]
    },
    {
      "cell_type": "code",
      "metadata": {
        "colab": {
          "base_uri": "https://localhost:8080/"
        },
        "id": "GvbW-t5TxyNH",
        "outputId": "7f3cdbd7-da39-4575-bb41-f45eae9a1c05"
      },
      "source": [
        "reg.coef_"
      ],
      "execution_count": null,
      "outputs": [
        {
          "output_type": "execute_result",
          "data": {
            "text/plain": [
              "array([-6.46128634e+01, -2.08535170e+11,  2.08535170e+11,  4.17070339e+11,\n",
              "        4.17047977e+00, -2.30802470e-02,  1.99319234e+01,  2.03770659e-01])"
            ]
          },
          "metadata": {
            "tags": []
          },
          "execution_count": 9
        }
      ]
    },
    {
      "cell_type": "code",
      "metadata": {
        "colab": {
          "base_uri": "https://localhost:8080/"
        },
        "id": "H0tma62kx8Ad",
        "outputId": "1f4e1f16-8a91-4de0-c5aa-315aff0baa09"
      },
      "source": [
        "reg.intercept_"
      ],
      "execution_count": null,
      "outputs": [
        {
          "output_type": "execute_result",
          "data": {
            "text/plain": [
              "83.71217809472692"
            ]
          },
          "metadata": {
            "tags": []
          },
          "execution_count": 10
        }
      ]
    },
    {
      "cell_type": "markdown",
      "metadata": {
        "id": "4UONG7wR7niO"
      },
      "source": [
        "# **Split the dataset in training set and test set**"
      ]
    },
    {
      "cell_type": "code",
      "metadata": {
        "id": "nMj52asq81du"
      },
      "source": [
        "from sklearn.model_selection import train_test_split\n",
        "x_train,x_test,y_train,y_test=train_test_split(x,y,test_size=0.2,random_state=5) # 20% of test data set"
      ],
      "execution_count": null,
      "outputs": []
    },
    {
      "cell_type": "markdown",
      "metadata": {
        "id": "GDMK4of_7kPu"
      },
      "source": [
        "# **Train the model on the training set**"
      ]
    },
    {
      "cell_type": "code",
      "metadata": {
        "colab": {
          "base_uri": "https://localhost:8080/"
        },
        "id": "y0gGd8NEsQk2",
        "outputId": "a4435c98-95e3-4b95-99f4-51dab8ddbbe0"
      },
      "source": [
        "ml=LinearRegression()\n",
        "ml.fit(x_train,y_train)"
      ],
      "execution_count": null,
      "outputs": [
        {
          "output_type": "execute_result",
          "data": {
            "text/plain": [
              "LinearRegression(copy_X=True, fit_intercept=True, n_jobs=None, normalize=False)"
            ]
          },
          "metadata": {
            "tags": []
          },
          "execution_count": 12
        }
      ]
    },
    {
      "cell_type": "markdown",
      "metadata": {
        "id": "u6V9461E7mhF"
      },
      "source": [
        "# **Predict the test set results**"
      ]
    },
    {
      "cell_type": "code",
      "metadata": {
        "colab": {
          "base_uri": "https://localhost:8080/"
        },
        "id": "XjpRVwjkji5h",
        "outputId": "42c65639-d19b-484c-a4a2-c5a5f66897cc"
      },
      "source": [
        "y_pred=ml.predict(x_test)\n",
        "print(y_pred)"
      ],
      "execution_count": null,
      "outputs": [
        {
          "output_type": "stream",
          "text": [
            "[16.80626392  7.93217529 17.00378281 32.06948313 28.09081578 15.36407581\n",
            " 35.63652679 10.1859443  11.32922654 35.43900791 31.35102357 28.23404773\n",
            " 26.20293362 10.45507916 14.5227239  32.27758531 31.47692648  7.2497784\n",
            " 15.12772252 25.95351826 33.77954981 37.26626678 11.2749396  28.56688246\n",
            " 30.38552302 31.67444536 33.56614723 28.30251243 32.1516824  14.64862681\n",
            " 12.56561622 19.13581134 33.18699316 28.43156661 10.06004139 34.61914746\n",
            " 35.56491081  9.05422271 29.01620717 12.79290612 31.41704631 11.86749625\n",
            " 17.25558862 13.15516232 29.69096308 31.74606134 17.20130169 15.96907444\n",
            " 29.54773114 18.22284345 11.52674542 30.51142592 11.23725707 34.21299082\n",
            " 26.62035808 33.56470189 15.6486632  31.02760178 15.46847335 18.48896775\n",
            " 29.9427689  27.90747466 15.77155555 28.10499354 34.4105097  35.51062388\n",
            " 31.2873237  29.56506018 30.17681844 35.90566165 18.4919783  11.82981372\n",
            " 28.75498841 11.30887305 12.91579847 33.06766084 30.14028779 32.74423905\n",
            " 40.26525581 33.63631786 16.16659332 28.36936358 11.66997737 27.9248037\n",
            " 34.87095328 35.7624297  29.65587777 28.97250353 27.52976593  9.34459238\n",
            " 18.41735178 18.29445942  9.57215283 10.83278788 18.09694054 31.2794076\n",
            " 15.45114431 11.03973819 10.43775012 27.51243689 22.63663308 18.61788121\n",
            " 14.55966789 11.38048902 17.45009695  8.11236513 35.83404567 32.90667262\n",
            " 13.20944925 11.74159334 34.01547193 32.38573194 15.52276029 16.0109194\n",
            " 16.33434119 13.16760429 14.63128387 15.29547039 18.47163871 26.63768712\n",
            " 25.63009647 10.85954834 18.3660754  31.87196425 15.79189515 13.71530543\n",
            " 30.23110538 28.54955342  7.76770852 16.29249623 40.01344999 29.38674291\n",
            "  9.86252251 12.39786835 12.27196544 32.78076971 11.5780079  29.81686599\n",
            " 36.69103917 16.687534   31.68236146 10.34188877 12.71827959  8.30988402\n",
            " 11.84715666 26.96110891 12.86452209 29.35021225  7.5159027  28.68337243\n",
            " 28.88089132 24.98562725 17.18397265  9.82395865]\n"
          ],
          "name": "stdout"
        }
      ]
    },
    {
      "cell_type": "markdown",
      "metadata": {
        "id": "aao6hE-m8Xuf"
      },
      "source": [
        "# **Evaluate the model**"
      ]
    },
    {
      "cell_type": "code",
      "metadata": {
        "colab": {
          "base_uri": "https://localhost:8080/"
        },
        "id": "Gx5LOsLas7Iz",
        "outputId": "bcc48a64-5769-4f36-a793-4479cdfa65d4"
      },
      "source": [
        "from sklearn.metrics import r2_score\n",
        "r2_score(y_test,y_pred)"
      ],
      "execution_count": null,
      "outputs": [
        {
          "output_type": "execute_result",
          "data": {
            "text/plain": [
              "0.9046619530806799"
            ]
          },
          "metadata": {
            "tags": []
          },
          "execution_count": 14
        }
      ]
    },
    {
      "cell_type": "markdown",
      "metadata": {
        "id": "nvDyyAeC8knW"
      },
      "source": [
        "# **Plot the results**"
      ]
    },
    {
      "cell_type": "code",
      "metadata": {
        "colab": {
          "base_uri": "https://localhost:8080/",
          "height": 421
        },
        "id": "AIQTsl-B8yQe",
        "outputId": "e7554183-db2f-4a19-a81e-a062622c361e"
      },
      "source": [
        "import matplotlib.pyplot as plt\n",
        "plt.figure(figsize=(12,6))\n",
        "plt.scatter(y_test,y_pred)\n",
        "plt.xlabel('Actual value')\n",
        "plt.ylabel('Predicted value')\n",
        "plt.title('The graph of Predicted value vs Actual value')"
      ],
      "execution_count": null,
      "outputs": [
        {
          "output_type": "execute_result",
          "data": {
            "text/plain": [
              "Text(0.5, 1.0, 'The graph of Predicted value vs Actual value')"
            ]
          },
          "metadata": {
            "tags": []
          },
          "execution_count": 15
        },
        {
          "output_type": "display_data",
          "data": {
            "image/png": "[encoded data removed]",
            "text/plain": [
              "<Figure size 864x432 with 1 Axes>"
            ]
          },
          "metadata": {
            "tags": [],
            "needs_background": "light"
          }
        }
      ]
    },
    {
      "cell_type": "markdown",
      "metadata": {
        "id": "snHbOKGbYIXq"
      },
      "source": [
        "# **Predicted values**"
      ]
    },
    {
      "cell_type": "code",
      "metadata": {
        "colab": {
          "base_uri": "https://localhost:8080/",
          "height": 359
        },
        "id": "YLOS_Mm_YWMq",
        "outputId": "1173051b-5999-415c-baa1-388f15d9690a"
      },
      "source": [
        "pred_y_df=pd.DataFrame({'Actual value':y_test,'Predicted value':y_pred,'Difference':y_test-y_pred})\n",
        "pred_y_df[0:10]"
      ],
      "execution_count": null,
      "outputs": [
        {
          "output_type": "execute_result",
          "data": {
            "text/html": [
              "<div>\n",
              "<style scoped>\n",
              "    .dataframe tbody tr th:only-of-type {\n",
              "        vertical-align: middle;\n",
              "    }\n",
              "\n",
              "    .dataframe tbody tr th {\n",
              "        vertical-align: top;\n",
              "    }\n",
              "\n",
              "    .dataframe thead th {\n",
              "        text-align: right;\n",
              "    }\n",
              "</style>\n",
              "<table border=\"1\" class=\"dataframe\">\n",
              "  <thead>\n",
              "    <tr style=\"text-align: right;\">\n",
              "      <th></th>\n",
              "      <th>Actual value</th>\n",
              "      <th>Predicted value</th>\n",
              "      <th>Difference</th>\n",
              "    </tr>\n",
              "  </thead>\n",
              "  <tbody>\n",
              "    <tr>\n",
              "      <th>0</th>\n",
              "      <td>15.23</td>\n",
              "      <td>16.806264</td>\n",
              "      <td>-1.576264</td>\n",
              "    </tr>\n",
              "    <tr>\n",
              "      <th>1</th>\n",
              "      <td>10.45</td>\n",
              "      <td>7.932175</td>\n",
              "      <td>2.517825</td>\n",
              "    </tr>\n",
              "    <tr>\n",
              "      <th>2</th>\n",
              "      <td>15.30</td>\n",
              "      <td>17.003783</td>\n",
              "      <td>-1.703783</td>\n",
              "    </tr>\n",
              "    <tr>\n",
              "      <th>3</th>\n",
              "      <td>25.70</td>\n",
              "      <td>32.069483</td>\n",
              "      <td>-6.369483</td>\n",
              "    </tr>\n",
              "    <tr>\n",
              "      <th>4</th>\n",
              "      <td>28.15</td>\n",
              "      <td>28.090816</td>\n",
              "      <td>0.059184</td>\n",
              "    </tr>\n",
              "    <tr>\n",
              "      <th>5</th>\n",
              "      <td>14.60</td>\n",
              "      <td>15.364076</td>\n",
              "      <td>-0.764076</td>\n",
              "    </tr>\n",
              "    <tr>\n",
              "      <th>6</th>\n",
              "      <td>42.49</td>\n",
              "      <td>35.636527</td>\n",
              "      <td>6.853473</td>\n",
              "    </tr>\n",
              "    <tr>\n",
              "      <th>7</th>\n",
              "      <td>11.10</td>\n",
              "      <td>10.185944</td>\n",
              "      <td>0.914056</td>\n",
              "    </tr>\n",
              "    <tr>\n",
              "      <th>8</th>\n",
              "      <td>11.68</td>\n",
              "      <td>11.329227</td>\n",
              "      <td>0.350773</td>\n",
              "    </tr>\n",
              "    <tr>\n",
              "      <th>9</th>\n",
              "      <td>42.74</td>\n",
              "      <td>35.439008</td>\n",
              "      <td>7.300992</td>\n",
              "    </tr>\n",
              "  </tbody>\n",
              "</table>\n",
              "</div>"
            ],
            "text/plain": [
              "   Actual value  Predicted value  Difference\n",
              "0         15.23        16.806264   -1.576264\n",
              "1         10.45         7.932175    2.517825\n",
              "2         15.30        17.003783   -1.703783\n",
              "3         25.70        32.069483   -6.369483\n",
              "4         28.15        28.090816    0.059184\n",
              "5         14.60        15.364076   -0.764076\n",
              "6         42.49        35.636527    6.853473\n",
              "7         11.10        10.185944    0.914056\n",
              "8         11.68        11.329227    0.350773\n",
              "9         42.74        35.439008    7.300992"
            ]
          },
          "metadata": {
            "tags": []
          },
          "execution_count": 16
        }
      ]
    },
    {
      "cell_type": "markdown",
      "metadata": {
        "id": "tM3GtyVTeBah"
      },
      "source": [
        "# **The data was normalized**"
      ]
    },
    {
      "cell_type": "code",
      "metadata": {
        "colab": {
          "base_uri": "https://localhost:8080/",
          "height": 204
        },
        "id": "xjD0NtMjho4h",
        "outputId": "e2efedfe-d9e6-4864-8894-21ffa0551a6c"
      },
      "source": [
        "df = (df - df.mean())/df.std()\n",
        "df.head()"
      ],
      "execution_count": null,
      "outputs": [
        {
          "output_type": "execute_result",
          "data": {
            "text/html": [
              "<div>\n",
              "<style scoped>\n",
              "    .dataframe tbody tr th:only-of-type {\n",
              "        vertical-align: middle;\n",
              "    }\n",
              "\n",
              "    .dataframe tbody tr th {\n",
              "        vertical-align: top;\n",
              "    }\n",
              "\n",
              "    .dataframe thead th {\n",
              "        text-align: right;\n",
              "    }\n",
              "</style>\n",
              "<table border=\"1\" class=\"dataframe\">\n",
              "  <thead>\n",
              "    <tr style=\"text-align: right;\">\n",
              "      <th></th>\n",
              "      <th>X1</th>\n",
              "      <th>X2</th>\n",
              "      <th>X3</th>\n",
              "      <th>X4</th>\n",
              "      <th>X5</th>\n",
              "      <th>X6</th>\n",
              "      <th>X7</th>\n",
              "      <th>X8</th>\n",
              "      <th>Y1</th>\n",
              "      <th>Y2</th>\n",
              "    </tr>\n",
              "  </thead>\n",
              "  <tbody>\n",
              "    <tr>\n",
              "      <th>0</th>\n",
              "      <td>2.040447</td>\n",
              "      <td>-1.784712</td>\n",
              "      <td>-0.561586</td>\n",
              "      <td>-1.469119</td>\n",
              "      <td>0.999349</td>\n",
              "      <td>-1.340767</td>\n",
              "      <td>-1.7593</td>\n",
              "      <td>-1.813393</td>\n",
              "      <td>-0.669679</td>\n",
              "      <td>-0.342443</td>\n",
              "    </tr>\n",
              "    <tr>\n",
              "      <th>1</th>\n",
              "      <td>2.040447</td>\n",
              "      <td>-1.784712</td>\n",
              "      <td>-0.561586</td>\n",
              "      <td>-1.469119</td>\n",
              "      <td>0.999349</td>\n",
              "      <td>-0.446922</td>\n",
              "      <td>-1.7593</td>\n",
              "      <td>-1.813393</td>\n",
              "      <td>-0.669679</td>\n",
              "      <td>-0.342443</td>\n",
              "    </tr>\n",
              "    <tr>\n",
              "      <th>2</th>\n",
              "      <td>2.040447</td>\n",
              "      <td>-1.784712</td>\n",
              "      <td>-0.561586</td>\n",
              "      <td>-1.469119</td>\n",
              "      <td>0.999349</td>\n",
              "      <td>0.446922</td>\n",
              "      <td>-1.7593</td>\n",
              "      <td>-1.813393</td>\n",
              "      <td>-0.669679</td>\n",
              "      <td>-0.342443</td>\n",
              "    </tr>\n",
              "    <tr>\n",
              "      <th>3</th>\n",
              "      <td>2.040447</td>\n",
              "      <td>-1.784712</td>\n",
              "      <td>-0.561586</td>\n",
              "      <td>-1.469119</td>\n",
              "      <td>0.999349</td>\n",
              "      <td>1.340767</td>\n",
              "      <td>-1.7593</td>\n",
              "      <td>-1.813393</td>\n",
              "      <td>-0.669679</td>\n",
              "      <td>-0.342443</td>\n",
              "    </tr>\n",
              "    <tr>\n",
              "      <th>4</th>\n",
              "      <td>1.284142</td>\n",
              "      <td>-1.228438</td>\n",
              "      <td>0.000000</td>\n",
              "      <td>-1.197897</td>\n",
              "      <td>0.999349</td>\n",
              "      <td>-1.340767</td>\n",
              "      <td>-1.7593</td>\n",
              "      <td>-1.813393</td>\n",
              "      <td>-0.145408</td>\n",
              "      <td>0.388113</td>\n",
              "    </tr>\n",
              "  </tbody>\n",
              "</table>\n",
              "</div>"
            ],
            "text/plain": [
              "         X1        X2        X3        X4  ...      X7        X8        Y1        Y2\n",
              "0  2.040447 -1.784712 -0.561586 -1.469119  ... -1.7593 -1.813393 -0.669679 -0.342443\n",
              "1  2.040447 -1.784712 -0.561586 -1.469119  ... -1.7593 -1.813393 -0.669679 -0.342443\n",
              "2  2.040447 -1.784712 -0.561586 -1.469119  ... -1.7593 -1.813393 -0.669679 -0.342443\n",
              "3  2.040447 -1.784712 -0.561586 -1.469119  ... -1.7593 -1.813393 -0.669679 -0.342443\n",
              "4  1.284142 -1.228438  0.000000 -1.197897  ... -1.7593 -1.813393 -0.145408  0.388113\n",
              "\n",
              "[5 rows x 10 columns]"
            ]
          },
          "metadata": {
            "tags": []
          },
          "execution_count": 17
        }
      ]
    },
    {
      "cell_type": "markdown",
      "metadata": {
        "id": "1HGbGYxOekEv"
      },
      "source": [
        "# **The matrices and set hyperparameters were created**\n"
      ]
    },
    {
      "cell_type": "code",
      "metadata": {
        "id": "76Jt1O6FenKZ"
      },
      "source": [
        "#setting the matrixes\n",
        "x = df.iloc[:,0:8]\n",
        "ones = np.ones([x.shape[0],1])\n",
        "x = np.concatenate((ones,x),axis=1)\n",
        "\n",
        "y = df.iloc[:,8:9].values #.values converts it from pandas.core.frame.DataFrame to numpy.ndarray\n",
        "theta = np.zeros([1,9])\n",
        "\n",
        "#set hyper parameters\n",
        "alpha = 0.01\n",
        "iters = 1000"
      ],
      "execution_count": null,
      "outputs": []
    },
    {
      "cell_type": "markdown",
      "metadata": {
        "id": "QYLhlhSybxxk"
      },
      "source": [
        "# **The Cost Function**"
      ]
    },
    {
      "cell_type": "code",
      "metadata": {
        "id": "4H4FISdpbxXK"
      },
      "source": [
        "#computecost\n",
        "def computeCost(x,y,theta):\n",
        "    tobesummed = np.power(((x @ theta.T)-y),2)\n",
        "    return np.sum(tobesummed)/(2 * len(x))"
      ],
      "execution_count": null,
      "outputs": []
    },
    {
      "cell_type": "markdown",
      "metadata": {
        "id": "S80Grt1bcjFr"
      },
      "source": [
        "# **The Gradient Descent function**"
      ]
    },
    {
      "cell_type": "code",
      "metadata": {
        "colab": {
          "base_uri": "https://localhost:8080/"
        },
        "id": "OSBqQiN-fQMw",
        "outputId": "9e9e6a29-2ae9-4b94-b585-f4ea0e9c0c44"
      },
      "source": [
        "#gradient descent\n",
        "def gradientDescent(x,y,theta,iters,alpha):\n",
        "    cost = np.zeros(iters)\n",
        "    for i in range(iters):\n",
        "        theta = theta - (alpha/len(x)) * np.sum(x * (x @ theta.T - y), axis=0)\n",
        "        cost[i] = computeCost(x, y, theta)\n",
        "    \n",
        "    return theta,cost\n",
        "\n",
        "#running the gd and cost function\n",
        "g,cost = gradientDescent(x,y,theta,iters,alpha)\n",
        "print(g)\n",
        "\n",
        "finalCost = computeCost(x,y,g)\n",
        "print(finalCost)"
      ],
      "execution_count": null,
      "outputs": [
        {
          "output_type": "stream",
          "text": [
            "[[ 6.06165002e-15 -6.33325006e-02 -1.12127872e-01  2.55289171e-01\n",
            "  -2.32634064e-01  5.29215756e-01 -2.58664964e-03  2.63127020e-01\n",
            "   3.13650350e-02]]\n",
            "0.04818471889057013\n"
          ],
          "name": "stdout"
        }
      ]
    },
    {
      "cell_type": "markdown",
      "metadata": {
        "id": "TEOcZBlvfFu6"
      },
      "source": [
        "# **The cost plot**"
      ]
    },
    {
      "cell_type": "code",
      "metadata": {
        "colab": {
          "base_uri": "https://localhost:8080/",
          "height": 312
        },
        "id": "KFeTaDNLcilV",
        "outputId": "18939131-3351-4f05-de60-443696809991"
      },
      "source": [
        "#plot the cost\n",
        "fig, ax = plt.subplots()  \n",
        "ax.plot(np.arange(iters), cost, 'r') \n",
        "plt.grid() \n",
        "ax.set_xlabel('Iterations')  \n",
        "ax.set_ylabel('Cost')  \n",
        "ax.set_title('Error vs. Training Epoch')    "
      ],
      "execution_count": null,
      "outputs": [
        {
          "output_type": "execute_result",
          "data": {
            "text/plain": [
              "Text(0.5, 1.0, 'Error vs. Training Epoch')"
            ]
          },
          "metadata": {
            "tags": []
          },
          "execution_count": 43
        },
        {
          "output_type": "display_data",
          "data": {
            "image/png": "[encoded data removed]",
            "text/plain": [
              "<Figure size 432x288 with 1 Axes>"
            ]
          },
          "metadata": {
            "tags": [],
            "needs_background": "light"
          }
        }
      ]
    },
    {
      "cell_type": "markdown",
      "metadata": {
        "id": "3xlZ3yrKfy6O"
      },
      "source": [
        "# **The alpha value is increased, slope becomes sharp and gradient descent will take less time to converge**"
      ]
    },
    {
      "cell_type": "code",
      "metadata": {
        "colab": {
          "base_uri": "https://localhost:8080/",
          "height": 312
        },
        "id": "xyozqtHbf0aG",
        "outputId": "2cd220fb-c19b-493f-a326-2975c10393dd"
      },
      "source": [
        "alpha=0.002\n",
        "Coefficients, cost = gradientDescent(x,y,theta,iters,alpha)\n",
        "plt.plot(np.arange(iters), cost, 'yellow', label='alpha=0.002') \n",
        "alpha=0.008\n",
        "Coefficients, cost = gradientDescent(x,y,theta,iters,alpha)\n",
        "plt.plot(np.arange(iters), cost, 'red', label='alpha=0.008') \n",
        "alpha=0.02\n",
        "Coefficients, cost = gradientDescent(x,y,theta,iters,alpha)\n",
        "plt.plot(np.arange(iters), cost, 'blue', label='alpha=0.02') \n",
        "alpha=0.08\n",
        "Coefficients, cost = gradientDescent(x,y,theta,iters,alpha)\n",
        "plt.plot(np.arange(iters), cost, 'black', label='alpha=0.08') \n",
        "alpha=0.1\n",
        "Coefficients, cost = gradientDescent(x,y,theta,iters,alpha)\n",
        "plt.plot(np.arange(iters), cost, 'green', label='alpha=0.1') \n",
        "\n",
        "\n",
        "\n",
        "plt.xlabel('Number of Iterations')  \n",
        "plt.ylabel('Cost')  \n",
        "plt.title('Effect of learning rate(alpha) on convergence') \n",
        "plt.grid() \n",
        "plt.legend()\n",
        "\n"
      ],
      "execution_count": null,
      "outputs": [
        {
          "output_type": "execute_result",
          "data": {
            "text/plain": [
              "<matplotlib.legend.Legend at 0x7fd3405abe10>"
            ]
          },
          "metadata": {
            "tags": []
          },
          "execution_count": 45
        },
        {
          "output_type": "display_data",
          "data": {
            "image/png": "[encoded data removed]",
            "text/plain": [
              "<Figure size 432x288 with 1 Axes>"
            ]
          },
          "metadata": {
            "tags": [],
            "needs_background": "light"
          }
        }
      ]
    }
  ]
}